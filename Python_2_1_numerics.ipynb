{
  "nbformat": 4,
  "nbformat_minor": 0,
  "metadata": {
    "colab": {
      "name": "Python_2_1_numerics.ipynb",
      "version": "0.3.2",
      "provenance": [],
      "include_colab_link": true
    },
    "kernelspec": {
      "name": "python3",
      "display_name": "Python 3"
    }
  },
  "cells": [
    {
      "cell_type": "markdown",
      "metadata": {
        "id": "view-in-github",
        "colab_type": "text"
      },
      "source": [
        "<a href=\"https://colab.research.google.com/github/MyDearGreatTeacher/HappyPythonDay/blob/master/Python_2_1_numerics.ipynb\" target=\"_parent\"><img src=\"https://colab.research.google.com/assets/colab-badge.svg\" alt=\"Open In Colab\"/></a>"
      ]
    },
    {
      "cell_type": "markdown",
      "metadata": {
        "id": "BV5qoPqOpYV-",
        "colab_type": "text"
      },
      "source": [
        "```\n",
        "算術運算子\n",
        "比較（關係）運算子\n",
        "賦值運算子\n",
        "邏輯運算符\n",
        "位元運算子\n",
        "成員運算子\n",
        "身份運算子\n",
        "```\n",
        "\n",
        "運算子優先順序\n"
      ]
    },
    {
      "cell_type": "code",
      "metadata": {
        "id": "C7SIAfvspXly",
        "colab_type": "code",
        "colab": {}
      },
      "source": [
        ""
      ],
      "execution_count": 0,
      "outputs": []
    },
    {
      "cell_type": "markdown",
      "metadata": {
        "id": "MwonuFxhu-e3",
        "colab_type": "text"
      },
      "source": [
        "# picoCTF 2017 : compute-rsa-50\n",
        "\n",
        "RSA encryption/decryption is based on a formula that anyone can find and use, as long as they know the values to plug in. Given the encrypted number 150815, d = 1941, and N = 435979, what is the decrypted number?\n",
        "\n",
        "HINTS\n",
        "\n",
        "decrypted = (encrypted) ^ d mod N"
      ]
    },
    {
      "cell_type": "code",
      "metadata": {
        "id": "x1t8vWVVjM_t",
        "colab_type": "code",
        "colab": {
          "base_uri": "https://localhost:8080/",
          "height": 34
        },
        "outputId": "ba5b2e21-f8f3-46b3-8bd1-7986d2110619"
      },
      "source": [
        "(150815**1941)%435979"
      ],
      "execution_count": 2,
      "outputs": [
        {
          "output_type": "execute_result",
          "data": {
            "text/plain": [
              "133337"
            ]
          },
          "metadata": {
            "tags": []
          },
          "execution_count": 2
        }
      ]
    }
  ]
}