{
  "nbformat": 4,
  "nbformat_minor": 0,
  "metadata": {
    "colab": {
      "name": "Python_2_1_numerics.ipynb",
      "version": "0.3.2",
      "provenance": [],
      "include_colab_link": true
    },
    "kernelspec": {
      "name": "python3",
      "display_name": "Python 3"
    }
  },
  "cells": [
    {
      "cell_type": "markdown",
      "metadata": {
        "id": "view-in-github",
        "colab_type": "text"
      },
      "source": [
        "<a href=\"https://colab.research.google.com/github/MyDearGreatTeacher/HappyPythonDay/blob/master/Python_2_1_numerics.ipynb\" target=\"_parent\"><img src=\"https://colab.research.google.com/assets/colab-badge.svg\" alt=\"Open In Colab\"/></a>"
      ]
    },
    {
      "cell_type": "markdown",
      "metadata": {
        "id": "BV5qoPqOpYV-",
        "colab_type": "text"
      },
      "source": [
        "```\n",
        "算術運算子\n",
        "比較（關係）運算子\n",
        "賦值運算子\n",
        "邏輯運算符\n",
        "位元運算子\n",
        "成員運算子\n",
        "身份運算子\n",
        "```\n",
        "\n",
        "運算子優先順序\n"
      ]
    },
    {
      "cell_type": "code",
      "metadata": {
        "id": "C7SIAfvspXly",
        "colab_type": "code",
        "colab": {}
      },
      "source": [
        ""
      ],
      "execution_count": 0,
      "outputs": []
    }
  ]
}