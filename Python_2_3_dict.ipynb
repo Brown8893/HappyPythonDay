{
  "nbformat": 4,
  "nbformat_minor": 0,
  "metadata": {
    "colab": {
      "name": "Python_2_3_dict.ipynb",
      "version": "0.3.2",
      "provenance": [],
      "include_colab_link": true
    },
    "kernelspec": {
      "name": "python3",
      "display_name": "Python 3"
    }
  },
  "cells": [
    {
      "cell_type": "markdown",
      "metadata": {
        "id": "view-in-github",
        "colab_type": "text"
      },
      "source": [
        "<a href=\"https://colab.research.google.com/github/MyDearGreatTeacher/HappyPythonDay/blob/master/Python_2_3_dict.ipynb\" target=\"_parent\"><img src=\"https://colab.research.google.com/assets/colab-badge.svg\" alt=\"Open In Colab\"/></a>"
      ]
    },
    {
      "cell_type": "markdown",
      "metadata": {
        "id": "WwMe6eUrsIot",
        "colab_type": "text"
      },
      "source": [
        "# 字典(Dictionary)\n",
        "\n",
        "```\n",
        "字典是一種可變容器模型，且可存儲任意類型物件。\n",
        "\n",
        "字典的每個鍵值(key=>value)對用冒號(:)分割\n",
        "每對pair之間用逗號(,)分割\n",
        "整個字典包括在花括弧({})中\n",
        "```\n",
        "\n",
        "存取時:dict['Key']會得到value!"
      ]
    },
    {
      "cell_type": "code",
      "metadata": {
        "id": "H6e-F2r9sCkY",
        "colab_type": "code",
        "colab": {
          "base_uri": "https://localhost:8080/",
          "height": 51
        },
        "outputId": "b0e1542e-2dee-44bf-f2dd-8412d8e2824f"
      },
      "source": [
        "#!/usr/bin/python\n",
        " \n",
        "dict = {'Name': 'Zara', 'Age': 7, 'Class': 'First'}\n",
        " \n",
        "print(\"dict['Name']: \", dict['Name'])\n",
        "print(\"dict['Age']: \", dict['Age'])\n"
      ],
      "execution_count": 1,
      "outputs": [
        {
          "output_type": "stream",
          "text": [
            "dict['Name']:  Zara\n",
            "dict['Age']:  7\n"
          ],
          "name": "stdout"
        }
      ]
    },
    {
      "cell_type": "markdown",
      "metadata": {
        "id": "9axclFHBsuGO",
        "colab_type": "text"
      },
      "source": [
        "#### Queston 1:寫出上述dict的key有那些?"
      ]
    },
    {
      "cell_type": "markdown",
      "metadata": {
        "id": "WnrHq-kys8eE",
        "colab_type": "text"
      },
      "source": [
        "#### Queston 2:寫出上述dict的value有那些?"
      ]
    },
    {
      "cell_type": "markdown",
      "metadata": {
        "id": "APKsfovVtBTA",
        "colab_type": "text"
      },
      "source": [
        "#### Queston 3:有幾組key-value pairs?"
      ]
    },
    {
      "cell_type": "markdown",
      "metadata": {
        "id": "INISHPVEtMz7",
        "colab_type": "text"
      },
      "source": [
        "# dict的運算"
      ]
    },
    {
      "cell_type": "markdown",
      "metadata": {
        "id": "G6dfZYkttPcw",
        "colab_type": "text"
      },
      "source": [
        "# dict內建的函數"
      ]
    }
  ]
}